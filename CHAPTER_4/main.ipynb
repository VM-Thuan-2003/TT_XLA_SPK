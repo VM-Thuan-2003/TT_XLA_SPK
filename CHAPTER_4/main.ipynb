{
 "cells": [
  {
   "cell_type": "markdown",
   "metadata": {},
   "source": [
    "# NHOM 4 - TT_XLA"
   ]
  },
  {
   "cell_type": "markdown",
   "metadata": {},
   "source": [
    "## Chương 4: ĐẶC TRƯNG CỦA ẢNH VÀ BÀI TOÁN NHẬN DIỆN"
   ]
  },
  {
   "cell_type": "markdown",
   "metadata": {},
   "source": [
    "> THANH VIEN:\n",
    "- Võ Minh Thuận    - 21161366\n",
    "- Trần Thị Xuân Hy - 21161323\n",
    "- Lê Quang Thương  - 21161367"
   ]
  },
  {
   "cell_type": "markdown",
   "metadata": {},
   "source": [
    "### MỤC TIÊU \n"
   ]
  },
  {
   "cell_type": "markdown",
   "metadata": {},
   "source": [
    "Trong chương này, người học sẽ thảo luận về các đặc trưng của ảnh và áp dụng các đặc trưng cho bài toán nhận điện. Các đặc trưng được thảo luận trong chương này gồm có đặc trưng về cạnh, đặc trưng về góc. Bài toán nhận diện được thảo luận và bài toán nhận diện khuôn mặt. Cuối cùng, các khối rời sẽ được kết hợp với nhau để tạo thành một ứng dụng bảo vệ danh tính cá nhân trên mạng xã hội. Chi tiết các phần được liệt kê như sau:\n",
    "- Đặc trưng về cạnh và ứng dụng\n",
    "- Đặc trưng về góc và ứng dụng\n",
    "- Phát hiện khuôn mặt\n",
    "- Ứng dụng bảo vệ danh tính\n"
   ]
  },
  {
   "cell_type": "markdown",
   "metadata": {},
   "source": [
    "### NHIỆM VỤ NGƯỜI HỌC"
   ]
  },
  {
   "cell_type": "markdown",
   "metadata": {},
   "source": [
    "Thực hiện đầy đủ các câu hỏi trong phần này trước khi đến lớp:\n",
    "- 1> Hãy trình bày kỹ thuật rút trích đặc trưng bằng bộ lọc Canny?\n",
    "- 2> Hãy trình bày kỹ thuật rút trích đặc trưng phát hiện góc?\n",
    "- 3> Hãy trình bày khái miện về đối tượng và lập trình hướng đối tượng?\n",
    "- 4> Định nghĩa về bài toán phát hiện khuôn mặt?\n",
    "- 5> Trình bày cách đọc một tập tin video hoặc kết nối với camera sử dụng thư viện OpenCV.\n"
   ]
  },
  {
   "cell_type": "markdown",
   "metadata": {},
   "source": [
    "Import các thư viện cần thiết cho chapter \n"
   ]
  },
  {
   "cell_type": "code",
   "execution_count": 3,
   "metadata": {},
   "outputs": [],
   "source": [
    "from matplotlib import pyplot as plt\n",
    "from matplotlib import patches\n",
    "from skimage.feature import corner_harris, corner_peaks, Cascade, canny\n",
    "from skimage import color, data\n",
    "from skimage.segmentation import slic\n",
    "from skimage.color import label2rgb\n",
    "from skimage.filters import gaussian\n",
    "import cv2\n",
    "import time\n",
    "import numpy as np"
   ]
  }
 ],
 "metadata": {
  "kernelspec": {
   "display_name": "venv_tt_xla",
   "language": "python",
   "name": "python3"
  },
  "language_info": {
   "codemirror_mode": {
    "name": "ipython",
    "version": 3
   },
   "file_extension": ".py",
   "mimetype": "text/x-python",
   "name": "python",
   "nbconvert_exporter": "python",
   "pygments_lexer": "ipython3",
   "version": "3.10.14"
  }
 },
 "nbformat": 4,
 "nbformat_minor": 2
}
